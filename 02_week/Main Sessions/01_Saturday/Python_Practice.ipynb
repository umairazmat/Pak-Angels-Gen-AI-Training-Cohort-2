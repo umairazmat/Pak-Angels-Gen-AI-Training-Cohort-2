{
  "nbformat": 4,
  "nbformat_minor": 0,
  "metadata": {
    "colab": {
      "provenance": [],
      "toc_visible": true
    },
    "kernelspec": {
      "name": "python3",
      "display_name": "Python 3"
    },
    "language_info": {
      "name": "python"
    }
  },
  "cells": [
    {
      "cell_type": "markdown",
      "source": [
        "**Start of Python **\n",
        "\n",
        "How to print in Python"
      ],
      "metadata": {
        "id": "DW-Hfg9Zsk3G"
      }
    },
    {
      "cell_type": "code",
      "execution_count": null,
      "metadata": {
        "colab": {
          "base_uri": "https://localhost:8080/"
        },
        "id": "Xbl5uinVrx5o",
        "outputId": "85aa987f-f173-4749-db62-71cc4cf3e351"
      },
      "outputs": [
        {
          "output_type": "stream",
          "name": "stdout",
          "text": [
            "Hello World\n"
          ]
        }
      ],
      "source": [
        "# Print the line\n",
        "print(\"Hello World\")"
      ]
    },
    {
      "cell_type": "markdown",
      "source": [
        "Comments\n"
      ],
      "metadata": {
        "id": "cA3rjHzLs-j5"
      }
    },
    {
      "cell_type": "code",
      "source": [
        "# this is comments"
      ],
      "metadata": {
        "id": "64urNIjXs_v6"
      },
      "execution_count": null,
      "outputs": []
    },
    {
      "cell_type": "markdown",
      "source": [
        "Variables\n"
      ],
      "metadata": {
        "id": "HToRGSiGtB2C"
      }
    },
    {
      "cell_type": "code",
      "source": [
        "x= 20\n",
        "print(x)\n",
        "print(type(x))\n",
        "\n",
        "y= 50.6\n",
        "print(y)\n",
        "print(type(y))\n",
        "\n",
        "z= \"Umair\"\n",
        "print(z)\n",
        "print(type(z))\n",
        "\n"
      ],
      "metadata": {
        "colab": {
          "base_uri": "https://localhost:8080/"
        },
        "id": "RMDwsr9htEGv",
        "outputId": "d3bef83b-9365-45e6-83f8-5a5e7c45ec78"
      },
      "execution_count": null,
      "outputs": [
        {
          "output_type": "stream",
          "name": "stdout",
          "text": [
            "20\n",
            "<class 'int'>\n",
            "50.6\n",
            "<class 'float'>\n",
            "Umair\n",
            "<class 'str'>\n"
          ]
        }
      ]
    },
    {
      "cell_type": "markdown",
      "source": [
        "Arithmetic Oeprators\n"
      ],
      "metadata": {
        "id": "D1tdh9Bsuvjz"
      }
    },
    {
      "cell_type": "code",
      "source": [
        "a = 10\n",
        "b = 20\n",
        "\n",
        "print(\"a\", a)\n",
        "print(\"b\", b)\n",
        "print(\"a + b\", a + b)\n",
        "print(\"a - b\", a - b)\n",
        "print(\"a * b\", a * b)\n",
        "print(\"a / b\", a / b)\n",
        "print(\"a // b\", a // b)\n",
        "print(\"a % b\", a % b)\n",
        "print(\"a ** b\", a**b)\n"
      ],
      "metadata": {
        "colab": {
          "base_uri": "https://localhost:8080/"
        },
        "id": "DcXKDzn0uyg8",
        "outputId": "9b5af9a6-2d58-4d4f-e3bc-a2c4f1d1d781"
      },
      "execution_count": null,
      "outputs": [
        {
          "output_type": "stream",
          "name": "stdout",
          "text": [
            "a 10\n",
            "b 20\n",
            "a + b 30\n",
            "a - b -10\n",
            "a * b 200\n",
            "a / b 0.5\n",
            "a // b 0\n",
            "a % b 10\n",
            "a ** b 100000000000000000000\n"
          ]
        }
      ]
    },
    {
      "cell_type": "code",
      "source": [
        "f = 40\n",
        "F = 50\n",
        "print(\"f\", f)\n",
        "print(\"F\", F)\n"
      ],
      "metadata": {
        "colab": {
          "base_uri": "https://localhost:8080/"
        },
        "id": "Uos7kRbrvaTf",
        "outputId": "c2835ce8-f709-45ba-adfc-a5fa5b2fa692"
      },
      "execution_count": null,
      "outputs": [
        {
          "output_type": "stream",
          "name": "stdout",
          "text": [
            "f 40\n",
            "F 50\n"
          ]
        }
      ]
    },
    {
      "cell_type": "markdown",
      "source": [
        "Boolean Operators\n"
      ],
      "metadata": {
        "id": "70VtI4U7vcfg"
      }
    },
    {
      "cell_type": "code",
      "source": [
        "r = True\n",
        "s = False\n",
        "t = True\n",
        "\n",
        "print(\"r\", r)\n",
        "print(\"type(r)\", type(r))\n",
        "print(\"s\", s)\n",
        "print(\"type(s)\", type(s))\n",
        "print(\"t\", t)\n",
        "print(\"type(t)\", type(t))\n",
        "\n",
        "print(\"r and s\", r and s)\n",
        "print(\"r and t\", r and t)\n",
        "print(\"r or s\", r or s)\n",
        "print(\"r or t\", r or t)\n",
        "print(\"not r\", not r)\n",
        "print(\"not s\", not s)"
      ],
      "metadata": {
        "colab": {
          "base_uri": "https://localhost:8080/"
        },
        "id": "Y3nyc5URvd6s",
        "outputId": "76349067-d69c-4ee3-d949-60380f12a9e1"
      },
      "execution_count": null,
      "outputs": [
        {
          "output_type": "stream",
          "name": "stdout",
          "text": [
            "r True\n",
            "type(r) <class 'bool'>\n",
            "s False\n",
            "type(s) <class 'bool'>\n",
            "t True\n",
            "type(t) <class 'bool'>\n",
            "r and s False\n",
            "r and t True\n",
            "r or s True\n",
            "r or t True\n",
            "not r False\n",
            "not s True\n"
          ]
        }
      ]
    },
    {
      "cell_type": "markdown",
      "source": [],
      "metadata": {
        "id": "4Nap3-cywfkA"
      }
    },
    {
      "cell_type": "markdown",
      "source": [
        "Coparison Operators\n"
      ],
      "metadata": {
        "id": "u7Z1GlHCwiLo"
      }
    },
    {
      "cell_type": "code",
      "source": [
        "h = 10\n",
        "i = 20\n",
        "j = 15\n",
        "\n",
        "print(\"h\", h)\n",
        "print(\"i\", i)\n",
        "\n",
        "print(\"h == i\", h == i)\n",
        "print(\"h != i\", h != i)\n",
        "print(\"h > i\", h > i)\n",
        "print(\"h < i\", h < i)\n",
        "print(\"h >= i\", h >= i)\n",
        "print(\"h <= i\", h <= i)\n",
        "\n",
        "# if\n",
        "if h > i:\n",
        "    print(\"h is greater than i\")\n",
        "\n",
        "if h < i:\n",
        "    print(\"h is less than i\")\n",
        "\n",
        "# if else\n",
        "if h > i:\n",
        "    print(\"h is greater than i\")\n",
        "else:\n",
        "    print(\"h is less than i\")\n",
        "\n",
        "\n",
        "# if elseif else\n",
        "if h > j:\n",
        "    print(\"h is greater than j\")\n",
        "elif h == j:\n",
        "    print(\"h is equal to j\")\n",
        "else:\n",
        "    print(\"h is less than j\")\n",
        "\n"
      ],
      "metadata": {
        "colab": {
          "base_uri": "https://localhost:8080/"
        },
        "id": "wLkViOaqwksy",
        "outputId": "06b4ded1-ceed-488f-b677-1583e1148e60"
      },
      "execution_count": null,
      "outputs": [
        {
          "output_type": "stream",
          "name": "stdout",
          "text": [
            "h 10\n",
            "i 20\n",
            "h == i False\n",
            "h != i True\n",
            "h > i False\n",
            "h < i True\n",
            "h >= i False\n",
            "h <= i True\n",
            "h is less than i\n",
            "h is less than i\n",
            "h is less than j\n"
          ]
        }
      ]
    },
    {
      "cell_type": "markdown",
      "source": [
        "Loop\n"
      ],
      "metadata": {
        "id": "cTU89aR2ydiq"
      }
    },
    {
      "cell_type": "code",
      "source": [
        "# for loop\n",
        "for i in range(10):\n",
        "    print(i)"
      ],
      "metadata": {
        "colab": {
          "base_uri": "https://localhost:8080/"
        },
        "id": "KvwfyDRkyeYk",
        "outputId": "02f06784-6c28-49c8-c9b6-d5062f21d9a3"
      },
      "execution_count": null,
      "outputs": [
        {
          "output_type": "stream",
          "name": "stdout",
          "text": [
            "0\n",
            "1\n",
            "2\n",
            "3\n",
            "4\n",
            "5\n",
            "6\n",
            "7\n",
            "8\n",
            "9\n"
          ]
        }
      ]
    },
    {
      "cell_type": "code",
      "source": [
        "for i in range(1, 10):\n",
        "    print(i)"
      ],
      "metadata": {
        "colab": {
          "base_uri": "https://localhost:8080/"
        },
        "id": "lsfCouThzX_J",
        "outputId": "34252df0-fa95-4c94-9a5a-7fa4fddbefa3"
      },
      "execution_count": null,
      "outputs": [
        {
          "output_type": "stream",
          "name": "stdout",
          "text": [
            "1\n",
            "2\n",
            "3\n",
            "4\n",
            "5\n",
            "6\n",
            "7\n",
            "8\n",
            "9\n"
          ]
        }
      ]
    },
    {
      "cell_type": "code",
      "source": [
        "for i in range(2, 10, 2):\n",
        "    print(i)"
      ],
      "metadata": {
        "colab": {
          "base_uri": "https://localhost:8080/"
        },
        "id": "LnVmqW-gzaT7",
        "outputId": "52f01a4d-145d-4a85-fbd0-8d1bdb3786b1"
      },
      "execution_count": null,
      "outputs": [
        {
          "output_type": "stream",
          "name": "stdout",
          "text": [
            "2\n",
            "4\n",
            "6\n",
            "8\n"
          ]
        }
      ]
    },
    {
      "cell_type": "code",
      "source": [
        "# reverse loop\n",
        "for i in range(10, 0, -1):\n",
        "    print(i)"
      ],
      "metadata": {
        "colab": {
          "base_uri": "https://localhost:8080/"
        },
        "id": "4AIxT3HCzbAT",
        "outputId": "8eec6089-c1e4-42dc-b651-4bc957a13cdc"
      },
      "execution_count": null,
      "outputs": [
        {
          "output_type": "stream",
          "name": "stdout",
          "text": [
            "10\n",
            "9\n",
            "8\n",
            "7\n",
            "6\n",
            "5\n",
            "4\n",
            "3\n",
            "2\n",
            "1\n"
          ]
        }
      ]
    },
    {
      "cell_type": "code",
      "source": [
        "# index based loop\n",
        "\n",
        "fruits = [\"apple\", \"banana\", \"cherry\"]\n",
        "for i in range(len(fruits)):\n",
        "    print(i, fruits[i])"
      ],
      "metadata": {
        "colab": {
          "base_uri": "https://localhost:8080/"
        },
        "id": "5pf2NSig0DAq",
        "outputId": "faa0e18f-2fa1-4265-b395-1b02d00ee4cf"
      },
      "execution_count": null,
      "outputs": [
        {
          "output_type": "stream",
          "name": "stdout",
          "text": [
            "0 apple\n",
            "1 banana\n",
            "2 cherry\n"
          ]
        }
      ]
    },
    {
      "cell_type": "code",
      "source": [
        "# value based loop\n",
        "for fruit in fruits:\n",
        "    print(fruit)"
      ],
      "metadata": {
        "colab": {
          "base_uri": "https://localhost:8080/"
        },
        "id": "GHfbj2LR0FVy",
        "outputId": "ed75d2c4-d6b1-4c58-f501-00bc6c8e906f"
      },
      "execution_count": null,
      "outputs": [
        {
          "output_type": "stream",
          "name": "stdout",
          "text": [
            "apple\n",
            "banana\n",
            "cherry\n"
          ]
        }
      ]
    },
    {
      "cell_type": "code",
      "source": [
        "# while loop\n",
        "i = 0\n",
        "while i < 10:\n",
        "    print(i)\n",
        "    i += 1"
      ],
      "metadata": {
        "colab": {
          "base_uri": "https://localhost:8080/"
        },
        "id": "itcfgwUC0ZfH",
        "outputId": "537312c1-89d8-476a-dce3-bac22e9d116f"
      },
      "execution_count": null,
      "outputs": [
        {
          "output_type": "stream",
          "name": "stdout",
          "text": [
            "0\n",
            "1\n",
            "2\n",
            "3\n",
            "4\n",
            "5\n",
            "6\n",
            "7\n",
            "8\n",
            "9\n"
          ]
        }
      ]
    },
    {
      "cell_type": "code",
      "source": [
        "# reverse loop\n",
        "i = 10\n",
        "while i > 0:\n",
        "    print(i)\n",
        "    i -= 1\n"
      ],
      "metadata": {
        "colab": {
          "base_uri": "https://localhost:8080/"
        },
        "id": "C5fpxQ4y0bv_",
        "outputId": "59170340-4fde-4dde-aa3c-718507bfbb8e"
      },
      "execution_count": null,
      "outputs": [
        {
          "output_type": "stream",
          "name": "stdout",
          "text": [
            "10\n",
            "9\n",
            "8\n",
            "7\n",
            "6\n",
            "5\n",
            "4\n",
            "3\n",
            "2\n",
            "1\n"
          ]
        }
      ]
    },
    {
      "cell_type": "markdown",
      "source": [
        "Built in Methods\n"
      ],
      "metadata": {
        "id": "TPCCM5ru1Csf"
      }
    },
    {
      "cell_type": "code",
      "source": [
        "num = [56, 23, 45, 78, 12, 90, 34, 67, 89, 23]\n",
        "print(\"num\", num)\n",
        "print(\"max(num)\", max(num))\n",
        "print(\"min(num)\", min(num))\n",
        "print(\"sum(num)\", sum(num))\n",
        "print(\"len(num)\", len(num))\n",
        "print(\"sorted(num)\", sorted(num))\n",
        "print(\"sorted(num, reverse=True)\", sorted(num, reverse=True))\n",
        "print(\"sorted(num, reverse=False)\", sorted(num, reverse=False))"
      ],
      "metadata": {
        "colab": {
          "base_uri": "https://localhost:8080/"
        },
        "id": "H1dS8r2h1Edu",
        "outputId": "f72c5bce-41cd-47a3-87e9-1e850b1a5c2a"
      },
      "execution_count": null,
      "outputs": [
        {
          "output_type": "stream",
          "name": "stdout",
          "text": [
            "num [56, 23, 45, 78, 12, 90, 34, 67, 89, 23]\n",
            "max(num) 90\n",
            "min(num) 12\n",
            "sum(num) 517\n",
            "len(num) 10\n",
            "sorted(num) [12, 23, 23, 34, 45, 56, 67, 78, 89, 90]\n",
            "sorted(num, reverse=True) [90, 89, 78, 67, 56, 45, 34, 23, 23, 12]\n",
            "sorted(num, reverse=False) [12, 23, 23, 34, 45, 56, 67, 78, 89, 90]\n"
          ]
        }
      ]
    },
    {
      "cell_type": "markdown",
      "source": [
        "Functions\n"
      ],
      "metadata": {
        "id": "IBruM_Lf1mFx"
      }
    },
    {
      "cell_type": "code",
      "source": [
        "def add(u, v):\n",
        "    ans = u + v\n",
        "    print(\"ans\", ans)\n",
        "    return ans\n",
        "\n",
        "\n",
        "add(10, 20)"
      ],
      "metadata": {
        "colab": {
          "base_uri": "https://localhost:8080/"
        },
        "id": "rC9E0hRd1pua",
        "outputId": "33b5bb26-d80c-4e97-d7d2-cfe00a0afdb1"
      },
      "execution_count": null,
      "outputs": [
        {
          "output_type": "stream",
          "name": "stdout",
          "text": [
            "ans 30\n"
          ]
        },
        {
          "output_type": "execute_result",
          "data": {
            "text/plain": [
              "30"
            ]
          },
          "metadata": {},
          "execution_count": 24
        }
      ]
    },
    {
      "cell_type": "markdown",
      "source": [
        "Lists"
      ],
      "metadata": {
        "id": "N3sQYXy-2hsS"
      }
    },
    {
      "cell_type": "code",
      "source": [
        "#                .....,-4,-3,-2,-1\n",
        "#       0, 1, 2, 3, 4, .......\n",
        "list = [\"apple\", \"banana\", \"cherry\", 94, 45.6, True, False, 45, 67, 89, 34.43]\n",
        "print(\"list\", list)\n",
        "print(\"type(list)\", type(list))\n",
        "print(\"len(list)\", len(list))\n",
        "print(\"list[0]\", list[0])\n",
        "print(\"list[6]\", list[6])\n",
        "print(\"list[-1]\", list[-1])\n",
        "print(\"list[-2]\", list[-2])\n"
      ],
      "metadata": {
        "colab": {
          "base_uri": "https://localhost:8080/"
        },
        "id": "YrfdiEMU2iIT",
        "outputId": "785becb1-7438-4369-89b4-bf60ff0ee1c3"
      },
      "execution_count": null,
      "outputs": [
        {
          "output_type": "stream",
          "name": "stdout",
          "text": [
            "list ['apple', 'banana', 'cherry', 94, 45.6, True, False, 45, 67, 89, 34.43]\n",
            "type(list) <class 'list'>\n",
            "len(list) 11\n",
            "list[0] apple\n",
            "list[6] False\n",
            "list[-1] 34.43\n",
            "list[-2] 89\n"
          ]
        }
      ]
    },
    {
      "cell_type": "code",
      "source": [
        "list = [\"apple\", \"banana\", \"cherry\", 94, 45.6, True, False, 45, 67, 89, 34.43]\n",
        "for i in list:\n",
        "    print(i)"
      ],
      "metadata": {
        "colab": {
          "base_uri": "https://localhost:8080/"
        },
        "id": "yc3mi2Kq3Z8W",
        "outputId": "7a0e93c5-481a-4b09-dae8-c3f29fcf45c7"
      },
      "execution_count": null,
      "outputs": [
        {
          "output_type": "stream",
          "name": "stdout",
          "text": [
            "apple\n",
            "banana\n",
            "cherry\n",
            "94\n",
            "45.6\n",
            "True\n",
            "False\n",
            "45\n",
            "67\n",
            "89\n",
            "34.43\n"
          ]
        }
      ]
    },
    {
      "cell_type": "code",
      "source": [
        "list = [\"apple\", \"banana\", \"cherry\", 94, 45.6, True, False, 45, 67, 89, 34.43]\n",
        "\n",
        "for i in range(len(list)):\n",
        "    print(i, list[i])"
      ],
      "metadata": {
        "colab": {
          "base_uri": "https://localhost:8080/"
        },
        "id": "E2yNk-h03dbQ",
        "outputId": "eaad3dcf-24f3-4715-b81c-a64fad52e42e"
      },
      "execution_count": null,
      "outputs": [
        {
          "output_type": "stream",
          "name": "stdout",
          "text": [
            "0 apple\n",
            "1 banana\n",
            "2 cherry\n",
            "3 94\n",
            "4 45.6\n",
            "5 True\n",
            "6 False\n",
            "7 45\n",
            "8 67\n",
            "9 89\n",
            "10 34.43\n"
          ]
        }
      ]
    },
    {
      "cell_type": "markdown",
      "source": [
        "Tuple\n"
      ],
      "metadata": {
        "id": "dZlEW7uF46Qn"
      }
    },
    {
      "cell_type": "code",
      "source": [
        "tuple = (\"apple\", \"banana\", \"cherry\", 94, 45.6, True, False, 45, 67, 89, 34.43)\n",
        "print(\"tuple\", tuple)\n",
        "print(\"type(tuple)\", type(tuple))\n",
        "print(\"len(tuple)\", len(tuple))\n",
        "print(\"tuple[0]\", tuple[0])\n",
        "print(\"tuple[6]\", tuple[6])"
      ],
      "metadata": {
        "colab": {
          "base_uri": "https://localhost:8080/"
        },
        "id": "Ho1EWZwy47g4",
        "outputId": "e36faf90-157d-4f54-a264-d9bc03c9c35c"
      },
      "execution_count": null,
      "outputs": [
        {
          "output_type": "stream",
          "name": "stdout",
          "text": [
            "tuple ('apple', 'banana', 'cherry', 94, 45.6, True, False, 45, 67, 89, 34.43)\n",
            "type(tuple) <class 'tuple'>\n",
            "len(tuple) 11\n",
            "tuple[0] apple\n",
            "tuple[6] False\n"
          ]
        }
      ]
    },
    {
      "cell_type": "markdown",
      "source": [
        "Set\n"
      ],
      "metadata": {
        "id": "h5cWBLy06HfB"
      }
    },
    {
      "cell_type": "code",
      "source": [
        "# Set\n",
        "# Set is a collection which is unordered and unindexed. No duplicate members.\n",
        "# set loop have no index\n",
        "\n",
        "Set = {5, 6, 7, 8, 9, 10, 5, 6, 7, 8, 9, 10, 6, 6}\n",
        "print(\"Set\", Set)"
      ],
      "metadata": {
        "colab": {
          "base_uri": "https://localhost:8080/"
        },
        "id": "wikGWKUR6IGG",
        "outputId": "51f53f9c-dcfb-425a-b1df-02d9b9396192"
      },
      "execution_count": null,
      "outputs": [
        {
          "output_type": "stream",
          "name": "stdout",
          "text": [
            "Set {5, 6, 7, 8, 9, 10}\n"
          ]
        }
      ]
    },
    {
      "cell_type": "markdown",
      "source": [
        "Dictionary\n"
      ],
      "metadata": {
        "id": "7gSwjkxn6TPJ"
      }
    },
    {
      "cell_type": "code",
      "source": [
        "# Dictionary\n",
        "# Dictionary is a collection which is unordered, changeable and indexed. No duplicate members.\n",
        "# dictionary have key value pair\n",
        "# dictionary loop have key\n",
        "dict = {\n",
        "    \"name\": \"John\",\n",
        "    \"age\": 36,\n",
        "    \"city\": \"Faisalabad\",\n",
        "    \"country\": \"Pakistan\",\n",
        "    \"marks\": [56, 78, 90, 45, 67],\n",
        "}\n",
        "print(\"dict\", dict)\n",
        "\n",
        "# get all keys\n",
        "for i in dict:\n",
        "    print(\"Key\",i)\n",
        "\n",
        "# get all values\n",
        "for i in dict:\n",
        "    print(\"values\",dict[i])\n",
        "\n",
        "# get all keys and values\n",
        "\n",
        "for key, value in dict.items():\n",
        "    print(key, value)\n"
      ],
      "metadata": {
        "colab": {
          "base_uri": "https://localhost:8080/"
        },
        "id": "xDEfW3Kq6UXm",
        "outputId": "173052da-1aa8-49b5-f284-64e0a0a1987a"
      },
      "execution_count": null,
      "outputs": [
        {
          "output_type": "stream",
          "name": "stdout",
          "text": [
            "dict {'name': 'John', 'age': 36, 'city': 'Faisalabad', 'country': 'Pakistan', 'marks': [56, 78, 90, 45, 67]}\n",
            "Key name\n",
            "Key age\n",
            "Key city\n",
            "Key country\n",
            "Key marks\n",
            "values John\n",
            "values 36\n",
            "values Faisalabad\n",
            "values Pakistan\n",
            "values [56, 78, 90, 45, 67]\n",
            "name John\n",
            "age 36\n",
            "city Faisalabad\n",
            "country Pakistan\n",
            "marks [56, 78, 90, 45, 67]\n"
          ]
        }
      ]
    }
  ]
}